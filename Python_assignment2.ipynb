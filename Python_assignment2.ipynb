{
 "cells": [
  {
   "cell_type": "markdown",
   "id": "c69680f4",
   "metadata": {},
   "source": [
    "1. Create the below pattern using nested for loop in Python."
   ]
  },
  {
   "cell_type": "code",
   "execution_count": 31,
   "id": "69e42f8b",
   "metadata": {},
   "outputs": [],
   "source": [
    "def print_pattern(symbol,rows):\n",
    "    for i in range(rows):\n",
    "        for j in range(i):\n",
    "            print(symbol,end=' ')\n",
    "        print(\" \")\n",
    "    for i in range(rows,0,-1):\n",
    "        for j in range(i,0,-1):\n",
    "            print(symbol,end=' ')\n",
    "        print(' ')"
   ]
  },
  {
   "cell_type": "code",
   "execution_count": 34,
   "id": "c08197f0",
   "metadata": {},
   "outputs": [
    {
     "name": "stdout",
     "output_type": "stream",
     "text": [
      "enter the sysmbol you want to print*\n",
      "enter number of rows to print8\n",
      " \n",
      "*  \n",
      "* *  \n",
      "* * *  \n",
      "* * * *  \n",
      "* * * * *  \n",
      "* * * * * *  \n",
      "* * * * * * *  \n",
      "* * * * * * * *  \n",
      "* * * * * * *  \n",
      "* * * * * *  \n",
      "* * * * *  \n",
      "* * * *  \n",
      "* * *  \n",
      "* *  \n",
      "*  \n"
     ]
    }
   ],
   "source": [
    "sym = input(\"enter the sysmbol you want to print\")\n",
    "row =input(\"enter number of rows to print\")\n",
    "print_pattern(sym,int(row))"
   ]
  },
  {
   "cell_type": "markdown",
   "id": "bd90ed27",
   "metadata": {},
   "source": [
    "2. Write a Python program to reverse a word after accepting the input from the user.\n",
    "Sample Output:\n",
    "    Input word: ineuron\n",
    "    Output: norueni"
   ]
  },
  {
   "cell_type": "code",
   "execution_count": 36,
   "id": "45d24b75",
   "metadata": {},
   "outputs": [
    {
     "name": "stdout",
     "output_type": "stream",
     "text": [
      "enter input stringineuron\n",
      "norueni\n"
     ]
    }
   ],
   "source": [
    "x = input(\"enter input string\")\n",
    "print(x[::-1])"
   ]
  }
 ],
 "metadata": {
  "kernelspec": {
   "display_name": "Python 3",
   "language": "python",
   "name": "python3"
  },
  "language_info": {
   "codemirror_mode": {
    "name": "ipython",
    "version": 3
   },
   "file_extension": ".py",
   "mimetype": "text/x-python",
   "name": "python",
   "nbconvert_exporter": "python",
   "pygments_lexer": "ipython3",
   "version": "3.8.8"
  }
 },
 "nbformat": 4,
 "nbformat_minor": 5
}
